{
 "cells": [
  {
   "cell_type": "code",
   "execution_count": 1,
   "metadata": {
    "scrolled": true
   },
   "outputs": [
    {
     "name": "stdout",
     "output_type": "stream",
     "text": [
      "merge  output_hidden_train1.txt\n",
      "merge  output_hidden_train2.txt\n",
      "merge  output_hidden_train3.txt\n",
      "merge  output_hidden_train4.txt\n",
      "merge  output_hidden_train5.txt\n",
      "merge  output_hidden_train6.txt\n",
      "merge  output_hidden_train7.txt\n",
      "merge  output_hidden_train8.txt\n",
      "merge done.\n"
     ]
    }
   ],
   "source": [
    "import os\n",
    "import shutil\n",
    "import glob\n",
    "\n",
    "\n",
    "mode = 'train'\n",
    "\n",
    "\n",
    "# path = \"/home/soon2soon/Notebooks/DreamChallenge/LSTM-Human-Activity-Recognition/output_state_result_test\"\n",
    "path = \"/home/soon2soon/Notebooks/DreamChallenge/sc2/output_state_result_\" + mode\n",
    "\n",
    "file_list = []\n",
    "\n",
    "os.chdir(path)\n",
    "\n",
    "file_list = sorted(filter(os.path.isfile, os.listdir('.')), key=os.path.getmtime)\n",
    "# print (file_list)\n",
    "\n",
    "\n",
    "\n",
    "\n",
    "with open(path + '/'+ 'merged_states_'+mode+'.txt','wb') as wfd:\n",
    "    for f in file_list:\n",
    "        print(\"merge \", f)\n",
    "        with open(f,'rb') as fd:\n",
    "            shutil.copyfileobj(fd, wfd, 1024*1024*10)\n",
    "            \n",
    "\n",
    "print(\"merge done.\")\n"
   ]
  },
  {
   "cell_type": "code",
   "execution_count": 7,
   "metadata": {},
   "outputs": [
    {
     "name": "stdout",
     "output_type": "stream",
     "text": [
      "4000\n"
     ]
    }
   ],
   "source": [
    "## line number check\n",
    "\n",
    "\n",
    "def file_len(fname):\n",
    "    with open(fname) as f:\n",
    "        for i, l in enumerate(f):\n",
    "            pass\n",
    "    return i + 1\n",
    "\n",
    "\n",
    "\n",
    "print(file_len(path+ '/' + 'merged_states_train.txt'))\n",
    "\n",
    "# print(file_len(path + '/'+ 'merged_states.txt'))"
   ]
  }
 ],
 "metadata": {
  "kernelspec": {
   "display_name": "Python 3",
   "language": "python",
   "name": "python3"
  },
  "language_info": {
   "codemirror_mode": {
    "name": "ipython",
    "version": 3
   },
   "file_extension": ".py",
   "mimetype": "text/x-python",
   "name": "python",
   "nbconvert_exporter": "python",
   "pygments_lexer": "ipython3",
   "version": "3.4.3"
  }
 },
 "nbformat": 4,
 "nbformat_minor": 2
}
