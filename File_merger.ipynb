{
 "cells": [
  {
   "cell_type": "code",
   "execution_count": 7,
   "metadata": {},
   "outputs": [
    {
     "name": "stdout",
     "output_type": "stream",
     "text": [
      "gravity_x merge done.\n",
      "gravity_y merge done.\n",
      "gravity_z merge done.\n",
      "rotation_x merge done.\n",
      "rotation_y merge done.\n",
      "rotation_z merge done.\n"
     ]
    }
   ],
   "source": [
    "import os\n",
    "import shutil\n",
    "\n",
    "\n",
    "path1 = \"/home/soon2soon/Notebooks/DreamChallenge/data/processed_data_train/train\"\n",
    "path2 = \"/home/soon2soon/Notebooks/DreamChallenge/data/processed_data_additional/train\"\n",
    "path3 = \"/home/soon2soon/Notebooks/DreamChallenge/data/processed_data_test/test\"\n",
    "\n",
    "\n",
    "output_path = \"/home/soon2soon/Notebooks/DreamChallenge/data/processed_data_final_test/test/\"\n",
    "\n",
    "\n",
    "\n",
    "\n",
    "mode_list = ['gravity_x', 'gravity_y', 'gravity_z', 'rotation_x', 'rotation_y', 'rotation_z']\n",
    "\n",
    "\n",
    "for mode in mode_list:\n",
    "    with open(output_path + '/'+ 'body_'+mode+'_test.txt','wb') as wfd:\n",
    "        for f in [path1 +  '/' + 'body_'+mode+'_train.txt', path2 + '/' +  'body_'+mode+'_train.txt',path3 +  '/' +  'body_'+mode+'_test.txt']:\n",
    "            with open(f,'rb') as fd:\n",
    "                shutil.copyfileobj(fd, wfd, 1024*1024*10)\n",
    "            \n",
    "            \n",
    "    print(mode+\" merge done.\")"
   ]
  },
  {
   "cell_type": "code",
   "execution_count": 8,
   "metadata": {},
   "outputs": [
    {
     "name": "stdout",
     "output_type": "stream",
     "text": [
      "merge done!\n"
     ]
    }
   ],
   "source": [
    "## mapping table merge\n",
    "path1 = \"/home/soon2soon/Notebooks/DreamChallenge/data/processed_data_train/train\"\n",
    "path2 = \"/home/soon2soon/Notebooks/DreamChallenge/data/processed_data_additional/train\"\n",
    "path3 = \"/home/soon2soon/Notebooks/DreamChallenge/data/processed_data_test/test\"\n",
    "\n",
    "\n",
    "output_path = \"/home/soon2soon/Notebooks/DreamChallenge/data/processed_data_final_test/test/\"\n",
    "\n",
    "\n",
    "with open(output_path + '/'+ 'mapping_test.txt','wb') as wfd:\n",
    "    for f in [path1 +  '/' + 'mapping_train.txt', path2 + '/' +  'mapping_train.txt', path3 +  '/' +  'mapping_test.txt']:\n",
    "        with open(f,'rb') as fd:\n",
    "            shutil.copyfileobj(fd, wfd, 1024*1024*10)\n",
    "\n",
    "print(\"merge done!\")"
   ]
  },
  {
   "cell_type": "code",
   "execution_count": 14,
   "metadata": {},
   "outputs": [
    {
     "name": "stdout",
     "output_type": "stream",
     "text": [
      "merge done!\n"
     ]
    }
   ],
   "source": [
    "## y_test merge\n",
    "path1 = \"/home/soon2soon/Notebooks/DreamChallenge/data/processed_data_train/train\"\n",
    "path2 = \"/home/soon2soon/Notebooks/DreamChallenge/data/processed_data_additional/train\"\n",
    "path3 = \"/home/soon2soon/Notebooks/DreamChallenge/data/processed_data_test/test\"\n",
    "\n",
    "\n",
    "output_path = \"/home/soon2soon/Notebooks/DreamChallenge/data/processed_data_final_test/test/\"\n",
    "\n",
    "\n",
    "with open(output_path + '/'+ 'y_test.txt','wb') as wfd:\n",
    "    for f in [path1 +  '/' + 'y_train.txt', path2 + '/' +  'y_train.txt', path3 +  '/' +  'y_test.txt']:\n",
    "        with open(f,'rb') as fd:\n",
    "            shutil.copyfileobj(fd, wfd, 1024*1024*10)\n",
    "\n",
    "print(\"merge done!\")"
   ]
  },
  {
   "cell_type": "code",
   "execution_count": 15,
   "metadata": {},
   "outputs": [
    {
     "name": "stdout",
     "output_type": "stream",
     "text": [
      "527862\n"
     ]
    }
   ],
   "source": [
    "## line number check\n",
    "\n",
    "\n",
    "def file_len(fname):\n",
    "    with open(fname) as f:\n",
    "        for i, l in enumerate(f):\n",
    "            pass\n",
    "    return i + 1\n",
    "\n",
    "\n",
    "mode = 'acc_x'\n",
    "\n",
    "# print(file_len(output_path + 'mapping_test.txt'))\n",
    "## 527862\n",
    "# print(file_len(output_path + 'body_'+mode+'_test.txt'))\n",
    "\n",
    "print(file_len(output_path + 'y_test.txt'))"
   ]
  }
 ],
 "metadata": {
  "kernelspec": {
   "display_name": "Python 3",
   "language": "python",
   "name": "python3"
  },
  "language_info": {
   "codemirror_mode": {
    "name": "ipython",
    "version": 3
   },
   "file_extension": ".py",
   "mimetype": "text/x-python",
   "name": "python",
   "nbconvert_exporter": "python",
   "pygments_lexer": "ipython3",
   "version": "3.4.3"
  }
 },
 "nbformat": 4,
 "nbformat_minor": 2
}
