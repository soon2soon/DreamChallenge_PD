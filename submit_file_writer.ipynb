{
 "cells": [
  {
   "cell_type": "code",
   "execution_count": 122,
   "metadata": {
    "scrolled": true
   },
   "outputs": [
    {
     "name": "stdout",
     "output_type": "stream",
     "text": [
      "feature vector row length 7328\n"
     ]
    }
   ],
   "source": [
    "import os\n",
    "import csv\n",
    "import pandas as pd\n",
    "\n",
    "\n",
    "path = \"/home/soon2soon/Notebooks/DreamChallenge/sc2/\"\n",
    "\n",
    "\n",
    "submit_file_path_tremor = path + \"submit/tremorSubmissionTemplate.csv\"\n",
    "submit_file_path_dyskinesia = path + \"submit/dyskinesiaSubmissionTemplate.csv\"\n",
    "submit_file_path_bradykinesia = path + \"submit/bradykinesiaSubmissionTemplate.csv\"\n",
    "\n",
    "\n",
    "\n",
    "train_feature_result = path + \"output_hidden_train.txt\"\n",
    "test_feature_result = path + \"output_hidden_test.txt\"\n",
    "\n",
    "train_mapping_file = path + \"eval_processed_data/train/mapping_train.txt\"\n",
    "test_mapping_file = path + \"eval_processed_data/test/mapping_test.txt\"\n",
    "\n",
    "\n",
    "fileId_feat_dic = {}\n",
    "\n",
    "\n",
    "## for train\n",
    "with open(train_feature_result, 'r') as feat, open(train_mapping_file, 'r') as file_ids:\n",
    "        ids = file_ids.readlines()\n",
    "        feature_vec = feat.readlines()\n",
    "        \n",
    "#         print(len(ids), len(feature_vec))\n",
    "        \n",
    "        for idx in range (0, len(ids)):\n",
    "            fileId_feat_dic[ids[idx]] = feature_vec[idx]\n",
    "            \n",
    "## for test\n",
    "            \n",
    "with open(test_feature_result, 'r') as feat, open(test_mapping_file, 'r') as file_ids:\n",
    "        ids = file_ids.readlines()\n",
    "        feature_vec = feat.readlines()\n",
    "        \n",
    "#         print(len(ids), len(feature_vec))\n",
    "        \n",
    "        for idx in range (0, len(ids)):\n",
    "\n",
    "            fileId_feat_dic[ids[idx]] = feature_vec[idx]\n",
    "\n",
    "print(\"feature vector row length\",len(fileId_feat_dic))\n",
    "\n",
    "\n",
    "clean_dict = {key.strip(): item.strip() for key, item in fileId_feat_dic.items()}\n",
    "\n",
    "\n",
    "\n"
   ]
  },
  {
   "cell_type": "code",
   "execution_count": 131,
   "metadata": {},
   "outputs": [
    {
     "name": "stdout",
     "output_type": "stream",
     "text": [
      "tremor  done.\n",
      "dyskinesia  done.\n",
      "bradykinesia  done.\n"
     ]
    }
   ],
   "source": [
    "# print(clean_dict.keys())\n",
    "\n",
    "\n",
    "\n",
    "pheno_list = ['tremor', 'dyskinesia', 'bradykinesia']\n",
    "\n",
    "\n",
    "for pheno in pheno_list:\n",
    "    tmpPath = path + 'submit/'+pheno+'SubmissionTemplate.csv'\n",
    "    f = open('submit/final_result_'+pheno+'.csv', 'w')\n",
    "\n",
    "\n",
    "    f.write('dataFileHandleId,')\n",
    "\n",
    "    for i in range(0, 96):\n",
    "        f.write('feat'+str(i+1))\n",
    "        if i < 95:\n",
    "            f.write(',')\n",
    "\n",
    "\n",
    "\n",
    "    f.write('\\n')\n",
    "\n",
    "    with open(tmpPath) as submit_file_org:\n",
    "        lines = submit_file_org.readlines()\n",
    "\n",
    "        for line in lines:\n",
    "            file_id = line[:-3].strip()\n",
    "#             print(file_id)\n",
    "    #         print(file_id in clean_dict)\n",
    "\n",
    "            if file_id in clean_dict:\n",
    "                tmpvec = clean_dict[file_id].replace(' ', ',')\n",
    "                f.write(file_id +','+ tmpvec)\n",
    "                f.write('\\n')\n",
    "                index = index + 1\n",
    "\n",
    "    f.close()\n",
    "    print(pheno, \" done.\")"
   ]
  }
 ],
 "metadata": {
  "kernelspec": {
   "display_name": "Python 3",
   "language": "python",
   "name": "python3"
  },
  "language_info": {
   "codemirror_mode": {
    "name": "ipython",
    "version": 3
   },
   "file_extension": ".py",
   "mimetype": "text/x-python",
   "name": "python",
   "nbconvert_exporter": "python",
   "pygments_lexer": "ipython3",
   "version": "3.4.3"
  }
 },
 "nbformat": 4,
 "nbformat_minor": 2
}
